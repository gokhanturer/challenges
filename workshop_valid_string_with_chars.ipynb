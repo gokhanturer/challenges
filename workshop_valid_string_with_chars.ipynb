{
  "nbformat": 4,
  "nbformat_minor": 0,
  "metadata": {
    "colab": {
      "name": "workshop valid string with chars.ipynb",
      "provenance": [],
      "collapsed_sections": [],
      "authorship_tag": "ABX9TyOybK86GqPsz0k1zw3k07OX",
      "include_colab_link": true
    },
    "kernelspec": {
      "name": "python3",
      "display_name": "Python 3"
    },
    "language_info": {
      "name": "python"
    }
  },
  "cells": [
    {
      "cell_type": "markdown",
      "metadata": {
        "id": "view-in-github",
        "colab_type": "text"
      },
      "source": [
        "<a href=\"https://colab.research.google.com/github/mehmetsar/challenges/blob/main/workshop_valid_string_with_chars.ipynb\" target=\"_parent\"><img src=\"https://colab.research.google.com/assets/colab-badge.svg\" alt=\"Open In Colab\"/></a>"
      ]
    },
    {
      "cell_type": "code",
      "metadata": {
        "id": "fDHZRjAgvXdp"
      },
      "source": [
        ""
      ],
      "execution_count": null,
      "outputs": []
    },
    {
      "cell_type": "markdown",
      "metadata": {
        "id": "iLpKspbNvYKZ"
      },
      "source": [
        ""
      ]
    },
    {
      "cell_type": "code",
      "metadata": {
        "id": "VhdAjCub0mN1",
        "colab": {
          "base_uri": "https://localhost:8080/",
          "height": 129
        },
        "outputId": "9742c01e-8995-42c5-a17a-e95b38e45d3e"
      },
      "source": [
        "st = \"{[()]}\"\n",
        "aa = {\"{\" : \"}\", \"[\" : \"]\", \"(\" : \")\"}\n",
        "#xx = [\"{\", \"}\", \"[\", \"]\", \"(\", \")\"]\n",
        "print(aa)\n",
        "bb = []\n",
        "k = 0\n",
        "for i in st :\n",
        "  bb.append(i)\n",
        "print(bb)\n",
        "while  :\n",
        "  for i in bb :\n",
        "    if i != \"}\" and i != \"]\" and  i != \")\" :\n",
        "      k = bb.index(aa[i])\n",
        "      if bb.index(i) == k-1 :\n",
        "        bb.pop(bb.index(i))\n",
        "        bb.pop(k-1)\n",
        "print(bb)\n",
        "if len(bb) == 0 :\n",
        "  print(\"True\")\n",
        "else :\n",
        "  print(\"False\")"
      ],
      "execution_count": null,
      "outputs": [
        {
          "output_type": "error",
          "ename": "SyntaxError",
          "evalue": "ignored",
          "traceback": [
            "\u001b[0;36m  File \u001b[0;32m\"<ipython-input-6-6355d063e792>\"\u001b[0;36m, line \u001b[0;32m10\u001b[0m\n\u001b[0;31m    while  :\u001b[0m\n\u001b[0m           ^\u001b[0m\n\u001b[0;31mSyntaxError\u001b[0m\u001b[0;31m:\u001b[0m invalid syntax\n"
          ]
        }
      ]
    },
    {
      "cell_type": "code",
      "metadata": {
        "colab": {
          "base_uri": "https://localhost:8080/"
        },
        "id": "cNlGsidAvIgu",
        "outputId": "276e9e5f-5122-40f5-db88-78a6c8a0b50f"
      },
      "source": [
        "st = \"{[()]}\"\n",
        "aa = {\"{\" : \"}\", \"[\" : \"]\", \"(\" : \")\"}\n",
        "print(aa)\n",
        "bb = []\n",
        "count=1\n",
        "count2=2\n",
        "k = 0\n",
        "for i in st :\n",
        "  bb.append(i)\n",
        "print(bb)\n",
        "for i in range(len(st)):\n",
        "  for i in bb :\n",
        "    if i != \"}\" and i != \"]\" and  i != \")\" :\n",
        "      k = bb.index(aa[i])\n",
        "      if bb.index(i) == k-1 :\n",
        "        bb.pop(bb.index(i))\n",
        "        bb.pop(k-1)\n",
        "        \n",
        "print(bb)\n",
        "if len(bb) == 0 :\n",
        "  print(\"True\")\n",
        "else :\n",
        "  print(\"False\")"
      ],
      "execution_count": null,
      "outputs": [
        {
          "output_type": "stream",
          "text": [
            "{'{': '}', '[': ']', '(': ')'}\n",
            "['{', '[', '(', ')', ']', '}']\n",
            "[]\n",
            "True\n"
          ],
          "name": "stdout"
        }
      ]
    },
    {
      "cell_type": "code",
      "metadata": {
        "colab": {
          "base_uri": "https://localhost:8080/"
        },
        "id": "1H9ir0jSyJbP",
        "outputId": "0dfaed06-a6b7-441b-db29-1b7f2125c883"
      },
      "source": [
        "st = \"{[]}\"\n",
        "aa = {\"{\" : \"}\", \"[\" : \"]\", \"(\" : \")\"}\n",
        "bb = []\n",
        "k = 0\n",
        "for i in st :\n",
        "  bb.append(i)\n",
        "print(bb)\n",
        "for i in range(len(st)):\n",
        "  for i in bb :\n",
        "    if i != \"}\" and i != \"]\" and  i != \")\" :\n",
        "      if aa[i] in bb:\n",
        "        k = bb.index(aa[i])\n",
        "      if bb.index(i) == k-1 :\n",
        "        bb.pop(bb.index(i))\n",
        "        bb.pop(k-1)\n",
        "        \n",
        "print(bb)\n",
        "if len(bb) == 0 :\n",
        "  print(\"True\")\n",
        "else :\n",
        "  print(\"False\")"
      ],
      "execution_count": null,
      "outputs": [
        {
          "output_type": "stream",
          "text": [
            "{'{': '}', '[': ']', '(': ')'}\n",
            "['{', '[', ']', '}']\n",
            "[]\n",
            "True\n"
          ],
          "name": "stdout"
        }
      ]
    }
  ]
}