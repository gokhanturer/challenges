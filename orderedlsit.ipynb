{
  "nbformat": 4,
  "nbformat_minor": 0,
  "metadata": {
    "colab": {
      "name": "orderedlsit.ipynb",
      "provenance": [],
      "authorship_tag": "ABX9TyPfNE3aXEyLCpLwx19F8sXN",
      "include_colab_link": true
    },
    "kernelspec": {
      "name": "python3",
      "display_name": "Python 3"
    },
    "language_info": {
      "name": "python"
    }
  },
  "cells": [
    {
      "cell_type": "markdown",
      "metadata": {
        "id": "view-in-github",
        "colab_type": "text"
      },
      "source": [
        "<a href=\"https://colab.research.google.com/github/mehmetsar/challenges/blob/main/orderedlsit.ipynb\" target=\"_parent\"><img src=\"https://colab.research.google.com/assets/colab-badge.svg\" alt=\"Open In Colab\"/></a>"
      ]
    },
    {
      "cell_type": "code",
      "metadata": {
        "colab": {
          "base_uri": "https://localhost:8080/"
        },
        "id": "fgUNb1IGYSnO",
        "outputId": "839bc640-33a7-4e72-8843-ae50d99f1e7a"
      },
      "source": [
        "def ordering(a):\n",
        "    new_listodd=[]\n",
        "    new_list=[]\n",
        "    count=0\n",
        "    for i in a:\n",
        "      if i%2:\n",
        "        new_listodd.append(i)\n",
        "        new_listodd=sorted(new_listodd)\n",
        "    for i in a:\n",
        "      if i%2:\n",
        "        new_list.append(new_listodd[0])\n",
        "        new_listodd.pop(0)\n",
        "      else:\n",
        "        new_list.append(i)  \n",
        "    return new_list \n",
        "\n",
        "bz=[0,1,2,7,3]\n",
        "ordering(bz)\n"
      ],
      "execution_count": 2,
      "outputs": [
        {
          "output_type": "execute_result",
          "data": {
            "text/plain": [
              "[0, 1, 2, 3, 7]"
            ]
          },
          "metadata": {
            "tags": []
          },
          "execution_count": 2
        }
      ]
    },
    {
      "cell_type": "code",
      "metadata": {
        "colab": {
          "base_uri": "https://localhost:8080/"
        },
        "id": "0kk2lRv_aajH",
        "outputId": "3bc8be14-9179-48f0-b8c7-687df42ba707"
      },
      "source": [
        "ab=[1,2,3,4,5]\n",
        "ab[2]=9\n",
        "ab=sorted(ab)\n",
        "ab.pop(0)\n",
        "ab"
      ],
      "execution_count": 47,
      "outputs": [
        {
          "output_type": "execute_result",
          "data": {
            "text/plain": [
              "[2, 4, 5, 9]"
            ]
          },
          "metadata": {
            "tags": []
          },
          "execution_count": 47
        }
      ]
    }
  ]
}